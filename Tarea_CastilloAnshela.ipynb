{
 "cells": [
  {
   "cell_type": "code",
   "execution_count": 2,
   "id": "7587d246-00bd-442d-aa9f-fec61f192886",
   "metadata": {},
   "outputs": [],
   "source": [
    "import pandas as pd "
   ]
  },
  {
   "cell_type": "code",
   "execution_count": 1,
   "id": "90671e3b-fa4d-4641-9394-32c1615de44b",
   "metadata": {},
   "outputs": [],
   "source": [
    "nombre='Anshela'\n",
    "edad=24\n",
    "modulo=6"
   ]
  },
  {
   "cell_type": "code",
   "execution_count": null,
   "id": "8da6790f",
   "metadata": {},
   "outputs": [],
   "source": []
  },
  {
   "cell_type": "code",
   "execution_count": 2,
   "id": "bc51787f-1b64-4192-a1ac-8c7a57322647",
   "metadata": {},
   "outputs": [
    {
     "data": {
      "text/plain": [
       "'Mi nombre es Anshela y tengo 24 años soy estudiante del Modulo numero 6 de Python'"
      ]
     },
     "execution_count": 2,
     "metadata": {},
     "output_type": "execute_result"
    }
   ],
   "source": [
    "f'Mi nombre es {nombre} y tengo {edad} años soy estudiante del Modulo numero {modulo} de Python'"
   ]
  }
 ],
 "metadata": {
  "kernelspec": {
   "display_name": "Python 3 (ipykernel)",
   "language": "python",
   "name": "python3"
  },
  "language_info": {
   "codemirror_mode": {
    "name": "ipython",
    "version": 3
   },
   "file_extension": ".py",
   "mimetype": "text/x-python",
   "name": "python",
   "nbconvert_exporter": "python",
   "pygments_lexer": "ipython3",
   "version": "3.11.2"
  }
 },
 "nbformat": 4,
 "nbformat_minor": 5
}
